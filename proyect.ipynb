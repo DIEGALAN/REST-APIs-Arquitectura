{
 "cells": [
  {
   "cell_type": "code",
   "execution_count": 2,
   "metadata": {},
   "outputs": [],
   "source": [
    "import sqlite3"
   ]
  },
  {
   "cell_type": "code",
   "execution_count": 3,
   "metadata": {},
   "outputs": [],
   "source": [
    "conn = sqlite3.connect('base_proyectos.db')\n",
    "\n",
    "cursor = conn.cursor()\n",
    "\n",
    "crear_tabla_usuarios = '''\n",
    "CREATE TABLE IF NOT EXISTS Usuarios (\n",
    "    id_usuario INTEGER PRIMARY KEY,\n",
    "    nombre_usuario TEXT NOT NULL,\n",
    "    correo_usuario TEXT NOT NULL,\n",
    "    perfil_usuario TEXT\n",
    ")\n",
    "'''\n",
    "\n",
    "crear_tabla_proyectos = '''\n",
    "CREATE TABLE IF NOT EXISTS Proyectos (\n",
    "    id_proyecto INTEGER PRIMARY KEY,\n",
    "    id_usuario INTEGER,\n",
    "    nombre_proyecto TEXT NOT NULL,\n",
    "    detalles_proyecto TEXT,\n",
    "    estado_proyecto TEXT,\n",
    "    FOREIGN KEY (id_usuario) REFERENCES Usuarios(id_usuario)\n",
    ")\n",
    "'''\n",
    "\n",
    "crear_tabla_tareas = '''\n",
    "CREATE TABLE IF NOT EXISTS Tareas (\n",
    "    id_tarea INTEGER PRIMARY KEY,\n",
    "    id_usuario INTEGER,\n",
    "    id_proyecto INTEGER,\n",
    "    nombre_tarea TEXT NOT NULL,\n",
    "    estado_tarea TEXT,\n",
    "    detalles_tarea TEXT,\n",
    "    FOREIGN KEY (id_usuario) REFERENCES Usuarios(id_usuario),\n",
    "    FOREIGN KEY (id_proyecto) REFERENCES Proyectos(id_proyecto)\n",
    ")\n",
    "'''\n",
    "\n",
    "cursor.execute(crear_tabla_usuarios)\n",
    "cursor.execute(crear_tabla_proyectos)\n",
    "cursor.execute(crear_tabla_tareas)\n",
    "\n",
    "conn.commit()\n",
    "conn.close()"
   ]
  },
  {
   "cell_type": "code",
   "execution_count": 1,
   "metadata": {},
   "outputs": [],
   "source": [
    "import sqlite3\n",
    "\n",
    "conn = sqlite3.connect('base_proyectos.db')\n",
    "cursor = conn.cursor()\n",
    "\n",
    "crear_tabla_estados = '''\n",
    "CREATE TABLE IF NOT EXISTS Estados (\n",
    "    id_estado INTEGER PRIMARY KEY,\n",
    "    nombre_estado TEXT NOT NULL\n",
    ")\n",
    "'''\n",
    "cursor.execute(crear_tabla_estados)\n",
    "\n",
    "crear_tabla_historial = '''\n",
    "CREATE TABLE IF NOT EXISTS Historial (\n",
    "    id_historial INTEGER PRIMARY KEY,\n",
    "    id_usuario INTEGER,\n",
    "    id_proyecto INTEGER,\n",
    "    id_tarea INTEGER,\n",
    "    nombre_estado TEXT,\n",
    "    detalles_h TEXT,\n",
    "    FOREIGN KEY (id_usuario) REFERENCES Usuarios(id_usuario),\n",
    "    FOREIGN KEY (id_proyecto) REFERENCES Proyectos(id_proyecto),\n",
    "    FOREIGN KEY (id_tarea) REFERENCES Tareas(id_tarea)\n",
    ")\n",
    "'''\n",
    "cursor.execute(crear_tabla_historial)\n",
    "\n",
    "crear_tabla_perfiles = '''\n",
    "CREATE TABLE IF NOT EXISTS Perfiles (\n",
    "    id_perfil INTEGER PRIMARY KEY,\n",
    "    nombre_perfil TEXT NOT NULL\n",
    ")\n",
    "'''\n",
    "cursor.execute(crear_tabla_perfiles)\n",
    "\n",
    "conn.commit()\n",
    "conn.close()\n"
   ]
  },
  {
   "cell_type": "code",
   "execution_count": 6,
   "metadata": {},
   "outputs": [],
   "source": [
    "\n",
    "conn = sqlite3.connect('base_proyectos.db')\n",
    "cursor = conn.cursor()\n",
    "\n",
    "sql_query = '''\n",
    "ALTER TABLE Usuarios\n",
    "ADD COLUMN id_perfil INTEGER REFERENCES Perfiles(id_perfil)\n",
    "'''\n",
    "\n",
    "cursor.execute(sql_query)\n",
    "\n",
    "conn.commit()\n",
    "conn.close()\n"
   ]
  },
  {
   "cell_type": "code",
   "execution_count": 4,
   "metadata": {},
   "outputs": [],
   "source": [
    "conn = sqlite3.connect('base_proyectos.db')\n",
    "cursor = conn.cursor()\n",
    "\n",
    "usuarios_data = [\n",
    "    (1001, 'Juan Garcia', 'Juan_Garcia@gmail.com', 'Gerente'),\n",
    "    (1002, 'Hernando Perez', 'Hernando_Perez@gmail.com', 'Desarrollador'),\n",
    "    (1003, 'Carlos Niño', 'Carlos_Nino@gmail.com', 'Gerente'),\n",
    "    (1004, 'Carla Florez', 'Carla_Florez@gmail.com', 'Desarrollador'),\n",
    "    (1005, 'Mariana Jaramillo', 'Mariana_Jaramillo@gmail.com', 'Gerente'),\n",
    "    (1006, 'Cristiano Ronaldo', 'Cristiano_Ronaldo@gmail.com', 'Desarrollador'),\n",
    "    (1007, 'Juan Cuadrado', 'Juan_Cuadrado@gmail.com', 'Gerente'),\n",
    "    (1008, 'Diego Alarcon', 'Diego_Alarcon@gmail.com', 'Desarrollador'),\n",
    "    (1009, 'Julian Niño', 'Julian_Nino@gmail.com', 'Gerente'),\n",
    "    (1010, 'Joseba Jartangas', 'Joseba_Jartangas@gmail.com', 'Desarrollador')\n",
    "]\n",
    "\n",
    "insert_query = 'INSERT INTO Usuarios (id_usuario, nombre_usuario, correo_usuario, perfil_usuario) VALUES (?, ?, ?, ?)'\n",
    "\n",
    "cursor.executemany(insert_query, usuarios_data)\n",
    "\n",
    "conn.commit()\n",
    "conn.close()"
   ]
  },
  {
   "cell_type": "code",
   "execution_count": 5,
   "metadata": {},
   "outputs": [],
   "source": [
    "conn = sqlite3.connect('base_proyectos.db')\n",
    "cursor = conn.cursor()\n",
    "\n",
    "proyectos_data = [\n",
    "    (101, 1001, 'Proyecto Neoris', 'Proyecto para la campaña Neoris', 'En progreso'),\n",
    "    (102, 1003, 'Proyecto Claro', 'Proyecto para el cliente Claro', 'Pendiente'),\n",
    "    (103, 1005, 'Proyecto Oracle', 'Proyecto para el cliente Oracle', 'En progreso'),\n",
    "    (104, 1007, 'Proyecto OFSC', 'Proyecto para la campaña OFSC', 'Completado'),\n",
    "    (105, 1009, 'Proyecto OCI', 'Proyecto para la campaña OCI', 'Cancelado')\n",
    "]\n",
    "\n",
    "insert_query = 'INSERT INTO Proyectos (id_proyecto, id_usuario, nombre_proyecto, detalles_proyecto, estado_proyecto) VALUES (?, ?, ?, ?, ?)'\n",
    "\n",
    "cursor.executemany(insert_query, proyectos_data)\n",
    "\n",
    "conn.commit()\n",
    "conn.close()\n"
   ]
  },
  {
   "cell_type": "code",
   "execution_count": 7,
   "metadata": {},
   "outputs": [],
   "source": [
    "conn = sqlite3.connect('base_proyectos.db')\n",
    "cursor = conn.cursor()\n",
    "\n",
    "tareas_data = [\n",
    "    (1, 1002, 101, 'Tarea Neoris1', 'Pendiente', 'Realizar la proyeccion de trabajo'),\n",
    "    (2, 1004, 102, 'Tarea Claro1', 'En progreso', 'Entregar el informe del progreso'),\n",
    "    (3, 1006, 103, 'Tarea Oracle1', 'Pendiente', 'Iniciar con el desarrollo'),\n",
    "    (4, 1008, 104, 'Tarea OFSC1', 'Completado', 'Entregar el informe completo del proyecto finalizado'),\n",
    "    (5, 1010, 105, 'Tarea OCI1', 'Cancelado', 'Justificar la causa de cancelacion')\n",
    "]\n",
    "\n",
    "insert_query = 'INSERT INTO Tareas (id_tarea, id_usuario, id_proyecto, nombre_tarea, estado_tarea, detalles_tarea) VALUES (?, ?, ?, ?, ?, ?)'\n",
    "\n",
    "cursor.executemany(insert_query, tareas_data)\n",
    "\n",
    "conn.commit()\n",
    "conn.close()\n"
   ]
  },
  {
   "cell_type": "code",
   "execution_count": 3,
   "metadata": {},
   "outputs": [
    {
     "name": "stdout",
     "output_type": "stream",
     "text": [
      "(1001, 'Juan Garcia', 'Juan_Garcia@gmail.com', 'Gerente', None)\n",
      "(1002, 'Hernando Perez', 'Hernando_Perez@gmail.com', 'Desarrollador', None)\n",
      "(1003, 'Carlos Niño', 'Carlos_Nino@gmail.com', 'Gerente', None)\n",
      "(1004, 'Carla Florez', 'Carla_Florez@gmail.com', 'Desarrollador', None)\n",
      "(1005, 'Mariana Jaramillo', 'Mariana_Jaramillo@gmail.com', 'Gerente', None)\n",
      "(1006, 'Cristiano Ronaldo', 'Cristiano_Ronaldo@gmail.com', 'Desarrollador', None)\n",
      "(1007, 'Juan Cuadrado', 'Juan_Cuadrado@gmail.com', 'Gerente', None)\n",
      "(1008, 'Diego Alarcon', 'Diego_Alarcon@gmail.com', 'Desarrollador', None)\n",
      "(1009, 'Julian Niño', 'Julian_Nino@gmail.com', 'Gerente', None)\n",
      "(1010, 'Joseba Jartangas', 'Joseba_Jartangas@gmail.com', 'Desarrollador', None)\n",
      "(1011, 'diego', 'diego', 'diego', None)\n"
     ]
    }
   ],
   "source": [
    "conn = sqlite3.connect('base_proyectos.db')\n",
    "cursor = conn.cursor()\n",
    "\n",
    "consulta = \"SELECT * FROM Usuarios\"\n",
    "\n",
    "cursor.execute(consulta)\n",
    "\n",
    "usuarios = cursor.fetchall()\n",
    "\n",
    "for usuario in usuarios:\n",
    "    print(usuario)\n",
    "\n",
    "conn.close()\n"
   ]
  },
  {
   "cell_type": "code",
   "execution_count": 6,
   "metadata": {},
   "outputs": [
    {
     "name": "stdout",
     "output_type": "stream",
     "text": [
      "Campo 'perfilusu' agregado exitosamente a la tabla USUARIOS_CR.\n"
     ]
    }
   ],
   "source": [
    "import sqlite3\n",
    "\n",
    "# Conectar a la base de datos\n",
    "conn = sqlite3.connect('base_proyectos.db')\n",
    "cursor = conn.cursor()\n",
    "\n",
    "# Crear la tabla USUARIOS_CR si no existe\n",
    "cursor.execute('''CREATE TABLE IF NOT EXISTS USUARIOS_CR (\n",
    "                    id_usuario INTEGER PRIMARY KEY,\n",
    "                    username TEXT NOT NULL,\n",
    "                    password TEXT NOT NULL\n",
    "                  )''')\n",
    "\n",
    "# Guardar los cambios y cerrar la conexión\n",
    "conn.commit()\n",
    "conn.close()\n",
    "\n",
    "print(\"Tabla USUARIOS_CR creada exitosamente.\")\n"
   ]
  },
  {
   "cell_type": "code",
   "execution_count": 10,
   "metadata": {},
   "outputs": [
    {
     "name": "stdout",
     "output_type": "stream",
     "text": [
      "Campo 'perfilusu' agregado exitosamente a la tabla USUARIOS_CR.\n"
     ]
    }
   ],
   "source": [
    "import sqlite3\n",
    "\n",
    "# Conectar a la base de datos\n",
    "conn = sqlite3.connect('base_proyectos.db')\n",
    "cursor = conn.cursor()\n",
    "\n",
    "# Agregar el campo perfilusu a la tabla USUARIOS_CR si no existe\n",
    "cursor.execute('''ALTER TABLE USUARIOS_CR \n",
    "                  ADD COLUMN perfilusu TEXT''')\n",
    "\n",
    "# Guardar los cambios y cerrar la conexión\n",
    "conn.commit()\n",
    "conn.close()\n",
    "\n",
    "print(\"Campo 'perfilusu' agregado exitosamente a la tabla USUARIOS_CR.\")\n"
   ]
  },
  {
   "cell_type": "code",
   "execution_count": 11,
   "metadata": {},
   "outputs": [],
   "source": [
    "conn = sqlite3.connect('base_proyectos.db')\n",
    "cursor = conn.cursor()\n",
    "\n",
    "tareas_data = [\n",
    "    (1001, 'JuanGarcia', 'Juan_Garcia@gmail.com', 'Gerente'),\n",
    "    (1002, 'HernandoPerez', 'Hernando_Perez@gmail.com', 'Desarrollador'),\n",
    "    (1003, 'CarlosNiño', 'Carlos_Nino@gmail.com', 'Gerente'),\n",
    "    (1004, 'CarlaFlorez', 'Carla_Florez@gmail.com', 'Desarrollador'),\n",
    "    (1005, 'MarianaJaramillo', 'Mariana_Jaramillo@gmail.com', 'Gerente'),\n",
    "    (1006, 'CristianoRonaldo', 'Cristiano_Ronaldo@gmail.com', 'Desarrollador'),\n",
    "    (1007, 'JuanCuadrado', 'Juan_Cuadrado@gmail.com', 'Gerente'),\n",
    "    (1008, 'DiegoAlarcon', 'Diego_Alarcon@gmail.com', 'Desarrollador'),\n",
    "    (1009, 'JulianNiño', 'Julian_Nino@gmail.com', 'Gerente'),\n",
    "    (1010, 'JosebaJartangas', 'Joseba_Jartangas@gmail.com', 'Desarrollador')\n",
    "]\n",
    "\n",
    "insert_query = 'INSERT INTO Usuarios_cr (id_usuario, username, password, perfilusu) VALUES (?, ?, ?, ?)'\n",
    "\n",
    "cursor.executemany(insert_query, tareas_data)\n",
    "\n",
    "conn.commit()\n",
    "conn.close()"
   ]
  },
  {
   "cell_type": "code",
   "execution_count": 3,
   "metadata": {},
   "outputs": [],
   "source": [
    "conn = sqlite3.connect('base_proyectos.db')\n",
    "cursor = conn.cursor()\n",
    "\n",
    "tareas_data = [\n",
    "    (1012, 'Juanhernesto', 'Juan_hernesto@gmail.com', 'Administrador')\n",
    "]\n",
    "\n",
    "insert_query = 'INSERT INTO Usuarios_cr (id_usuario, username, password, perfilusu) VALUES (?, ?, ?, ?)'\n",
    "\n",
    "cursor.executemany(insert_query, tareas_data)\n",
    "\n",
    "conn.commit()\n",
    "conn.close()"
   ]
  }
 ],
 "metadata": {
  "kernelspec": {
   "display_name": "Python 3",
   "language": "python",
   "name": "python3"
  },
  "language_info": {
   "codemirror_mode": {
    "name": "ipython",
    "version": 3
   },
   "file_extension": ".py",
   "mimetype": "text/x-python",
   "name": "python",
   "nbconvert_exporter": "python",
   "pygments_lexer": "ipython3",
   "version": "3.11.8"
  }
 },
 "nbformat": 4,
 "nbformat_minor": 2
}
